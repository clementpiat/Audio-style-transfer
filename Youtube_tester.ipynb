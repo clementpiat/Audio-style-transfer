{
 "cells": [
  {
   "cell_type": "code",
   "execution_count": 5,
   "metadata": {},
   "outputs": [],
   "source": [
    "import numpy as np\n",
    "import matplotlib.pyplot as plt\n",
    "import time\n",
    "from scipy import signal\n",
    "import IPython.display as ipd\n",
    "import librosa\n",
    "\n",
    "pathToModel = \"model_model20181211222107.h5\"\n",
    "sampleAu,fs = librosa.load(\"/home/clementp/Téléchargements/bob-marley-stir-it-up.au\")\n",
    "\n"
   ]
  },
  {
   "cell_type": "code",
   "execution_count": 9,
   "metadata": {},
   "outputs": [
    {
     "name": "stdout",
     "output_type": "stream",
     "text": [
      "(7332596,)\n",
      "(66659,)\n"
     ]
    }
   ],
   "source": [
    "X=sampleAu[:]\n",
    "print(X.shape)\n",
    "X=X[:(X.shape[0]//11)]\n",
    "\n",
    "window=0.1\n",
    "overlap=0.5\n",
    "xshape = X.shape[0]\n",
    "chunk = int(xshape*window)\n",
    "offset = int(chunk*(1.-overlap))\n",
    "spsong = [X[i:i+chunk] for i in range(0, xshape - chunk + offset, offset)]\n"
   ]
  },
  {
   "cell_type": "code",
   "execution_count": 20,
   "metadata": {},
   "outputs": [
    {
     "name": "stdout",
     "output_type": "stream",
     "text": [
      "9\n",
      "9\n",
      "9\n",
      "8\n",
      "8\n",
      "8\n",
      "8\n",
      "8\n",
      "9\n",
      "8\n",
      "8\n",
      "8\n",
      "8\n",
      "8\n",
      "8\n",
      "8\n",
      "8\n",
      "8\n",
      "8\n"
     ]
    }
   ],
   "source": [
    "##print the predicted style for different samples... It's indeed raggae music\n",
    "\n",
    "x=spsong[18]\n",
    "ipd.Audio(x,rate=fs)\n",
    "#ipd.Audio(X,rate=fs)\n",
    "\n",
    "from keras import models\n",
    "model = models.load_model(pathToModel)\n",
    "\n",
    "for i in range(len(spsong)-1):\n",
    "    x=spsong[i]\n",
    "    module=((abs(signal.stft(x, fs=fs, nperseg=512)[2])**2)*2500)[:128,:259,np.newaxis]\n",
    "    inputImage=np.squeeze(np.stack([module,module,module], axis=-1))\n",
    "    Image=inputImage[np.newaxis,:,:,:]\n",
    "    print(np.argmax(model.predict(Image)))\n",
    "    "
   ]
  }
 ],
 "metadata": {
  "kernelspec": {
   "display_name": "Python 3",
   "language": "python",
   "name": "python3"
  },
  "language_info": {
   "codemirror_mode": {
    "name": "ipython",
    "version": 3
   },
   "file_extension": ".py",
   "mimetype": "text/x-python",
   "name": "python",
   "nbconvert_exporter": "python",
   "pygments_lexer": "ipython3",
   "version": "3.6.6"
  }
 },
 "nbformat": 4,
 "nbformat_minor": 2
}
